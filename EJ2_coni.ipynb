{
 "cells": [
  {
   "cell_type": "code",
   "execution_count": 1,
   "metadata": {},
   "outputs": [],
   "source": [
    "import pandas as pd\n",
    "import numpy as np"
   ]
  },
  {
   "cell_type": "code",
   "execution_count": null,
   "metadata": {},
   "outputs": [],
   "source": [
    "def Ret_Pregunta02():\n",
    "    '''\n",
    "    Debes utilizar Pandas para ingestar en un objeto Dataframe el contenido del archivo provisto\n",
    "    \"Fuentes_Consumo_Energia.csv\".\n",
    "    Esta función debe eliminar las columnas 'Code' y 'Entity' y luego informar la cantidad de columnas\n",
    "    retornando ese valor en un dato de tipo entero.\n",
    "    '''"
   ]
  },
  {
   "cell_type": "code",
   "execution_count": 15,
   "metadata": {},
   "outputs": [
    {
     "data": {
      "text/plain": [
       "(5190, 9)"
      ]
     },
     "execution_count": 15,
     "metadata": {},
     "output_type": "execute_result"
    }
   ],
   "source": [
    "df_consumo= pd.read_csv('datasets\\Fuentes_Consumo_Energia.csv')\n",
    "df_consumo.drop(columns= {'Code'}, inplace=True)\n",
    "df_consumo.drop(columns= {'Entity'}, inplace=True)\n",
    "df_consumo.shape"
   ]
  },
  {
   "cell_type": "code",
   "execution_count": 17,
   "metadata": {},
   "outputs": [
    {
     "data": {
      "text/html": [
       "<div>\n",
       "<style scoped>\n",
       "    .dataframe tbody tr th:only-of-type {\n",
       "        vertical-align: middle;\n",
       "    }\n",
       "\n",
       "    .dataframe tbody tr th {\n",
       "        vertical-align: top;\n",
       "    }\n",
       "\n",
       "    .dataframe thead th {\n",
       "        text-align: right;\n",
       "    }\n",
       "</style>\n",
       "<table border=\"1\" class=\"dataframe\">\n",
       "  <thead>\n",
       "    <tr style=\"text-align: right;\">\n",
       "      <th></th>\n",
       "      <th>Year</th>\n",
       "      <th>Coal_Consumption_EJ</th>\n",
       "      <th>Gas_Consumption_EJ</th>\n",
       "      <th>Geo_Biomass_Other_TWh</th>\n",
       "      <th>Hydro_Generation_TWh</th>\n",
       "      <th>Nuclear_Generation_TWh</th>\n",
       "      <th>Solar_Generation_TWh</th>\n",
       "      <th>Wind_Generation_TWh</th>\n",
       "      <th>Oil_Consumption_EJ</th>\n",
       "    </tr>\n",
       "  </thead>\n",
       "  <tbody>\n",
       "    <tr>\n",
       "      <th>0</th>\n",
       "      <td>1965</td>\n",
       "      <td>1.164586</td>\n",
       "      <td>0.034358</td>\n",
       "      <td>0.0</td>\n",
       "      <td>13.905635</td>\n",
       "      <td>0.0</td>\n",
       "      <td>0.0</td>\n",
       "      <td>0.0</td>\n",
       "      <td>1.173241</td>\n",
       "    </tr>\n",
       "    <tr>\n",
       "      <th>1</th>\n",
       "      <td>1966</td>\n",
       "      <td>1.163240</td>\n",
       "      <td>0.038412</td>\n",
       "      <td>0.0</td>\n",
       "      <td>15.510004</td>\n",
       "      <td>0.0</td>\n",
       "      <td>0.0</td>\n",
       "      <td>0.0</td>\n",
       "      <td>1.284154</td>\n",
       "    </tr>\n",
       "    <tr>\n",
       "      <th>2</th>\n",
       "      <td>1967</td>\n",
       "      <td>1.189050</td>\n",
       "      <td>0.037964</td>\n",
       "      <td>0.0</td>\n",
       "      <td>16.190636</td>\n",
       "      <td>0.0</td>\n",
       "      <td>0.0</td>\n",
       "      <td>0.0</td>\n",
       "      <td>1.273799</td>\n",
       "    </tr>\n",
       "    <tr>\n",
       "      <th>3</th>\n",
       "      <td>1968</td>\n",
       "      <td>1.236646</td>\n",
       "      <td>0.038480</td>\n",
       "      <td>0.0</td>\n",
       "      <td>18.938341</td>\n",
       "      <td>0.0</td>\n",
       "      <td>0.0</td>\n",
       "      <td>0.0</td>\n",
       "      <td>1.344219</td>\n",
       "    </tr>\n",
       "    <tr>\n",
       "      <th>4</th>\n",
       "      <td>1969</td>\n",
       "      <td>1.247915</td>\n",
       "      <td>0.044971</td>\n",
       "      <td>0.0</td>\n",
       "      <td>22.100890</td>\n",
       "      <td>0.0</td>\n",
       "      <td>0.0</td>\n",
       "      <td>0.0</td>\n",
       "      <td>1.362729</td>\n",
       "    </tr>\n",
       "  </tbody>\n",
       "</table>\n",
       "</div>"
      ],
      "text/plain": [
       "   Year  Coal_Consumption_EJ  Gas_Consumption_EJ  Geo_Biomass_Other_TWh  \\\n",
       "0  1965             1.164586            0.034358                    0.0   \n",
       "1  1966             1.163240            0.038412                    0.0   \n",
       "2  1967             1.189050            0.037964                    0.0   \n",
       "3  1968             1.236646            0.038480                    0.0   \n",
       "4  1969             1.247915            0.044971                    0.0   \n",
       "\n",
       "   Hydro_Generation_TWh  Nuclear_Generation_TWh  Solar_Generation_TWh  \\\n",
       "0             13.905635                     0.0                   0.0   \n",
       "1             15.510004                     0.0                   0.0   \n",
       "2             16.190636                     0.0                   0.0   \n",
       "3             18.938341                     0.0                   0.0   \n",
       "4             22.100890                     0.0                   0.0   \n",
       "\n",
       "   Wind_Generation_TWh  Oil_Consumption_EJ  \n",
       "0                  0.0            1.173241  \n",
       "1                  0.0            1.284154  \n",
       "2                  0.0            1.273799  \n",
       "3                  0.0            1.344219  \n",
       "4                  0.0            1.362729  "
      ]
     },
     "execution_count": 17,
     "metadata": {},
     "output_type": "execute_result"
    }
   ],
   "source": [
    "df_consumo.head()"
   ]
  },
  {
   "cell_type": "code",
   "execution_count": 22,
   "metadata": {},
   "outputs": [
    {
     "name": "stdout",
     "output_type": "stream",
     "text": [
      "El numero de columnas es 9\n"
     ]
    }
   ],
   "source": [
    "Columnas= df_consumo.shape[1]\n",
    "print('El numero de columnas es', Columnas)"
   ]
  },
  {
   "cell_type": "code",
   "execution_count": 23,
   "metadata": {},
   "outputs": [
    {
     "name": "stdout",
     "output_type": "stream",
     "text": [
      "El numero de columnas es 9\n"
     ]
    }
   ],
   "source": [
    "df_consumo= pd.read_csv('datasets\\Fuentes_Consumo_Energia.csv')\n",
    "df_consumo.drop(columns= {'Code'}, inplace=True)\n",
    "df_consumo.drop(columns= {'Entity'}, inplace=True)\n",
    "Columnas= df_consumo.shape[1]\n",
    "print('El numero de columnas es', Columnas)"
   ]
  },
  {
   "cell_type": "code",
   "execution_count": 33,
   "metadata": {},
   "outputs": [],
   "source": [
    "def Ret_Pregunta02():\n",
    "    df_consumo= pd.read_csv('datasets\\Fuentes_Consumo_Energia.csv')\n",
    "    df_consumo.drop(columns= {'Code'}, inplace=True)\n",
    "    df_consumo.drop(columns= {'Entity'}, inplace=True)\n",
    "    Columnas= int(df_consumo.shape[1])\n",
    "    return Columnas"
   ]
  },
  {
   "cell_type": "code",
   "execution_count": 34,
   "metadata": {},
   "outputs": [
    {
     "data": {
      "text/plain": [
       "9"
      ]
     },
     "execution_count": 34,
     "metadata": {},
     "output_type": "execute_result"
    }
   ],
   "source": [
    "Ret_Pregunta02()"
   ]
  },
  {
   "cell_type": "code",
   "execution_count": 37,
   "metadata": {},
   "outputs": [
    {
     "name": "stdout",
     "output_type": "stream",
     "text": [
      "El numero de columnas es 9\n"
     ]
    }
   ],
   "source": [
    "col = df_consumo.columns\n",
    "print ('El numero de columnas es', len(col)) ###otra forma que no es con shapeee!\n"
   ]
  },
  {
   "cell_type": "code",
   "execution_count": 38,
   "metadata": {},
   "outputs": [
    {
     "data": {
      "text/plain": [
       "Index(['Year', 'Coal_Consumption_EJ', 'Gas_Consumption_EJ',\n",
       "       'Geo_Biomass_Other_TWh', 'Hydro_Generation_TWh',\n",
       "       'Nuclear_Generation_TWh', 'Solar_Generation_TWh', 'Wind_Generation_TWh',\n",
       "       'Oil_Consumption_EJ'],\n",
       "      dtype='object')"
      ]
     },
     "execution_count": 38,
     "metadata": {},
     "output_type": "execute_result"
    }
   ],
   "source": [
    "df_consumo.columns"
   ]
  },
  {
   "cell_type": "code",
   "execution_count": null,
   "metadata": {},
   "outputs": [],
   "source": []
  }
 ],
 "metadata": {
  "kernelspec": {
   "display_name": "Python 3",
   "language": "python",
   "name": "python3"
  },
  "language_info": {
   "codemirror_mode": {
    "name": "ipython",
    "version": 3
   },
   "file_extension": ".py",
   "mimetype": "text/x-python",
   "name": "python",
   "nbconvert_exporter": "python",
   "pygments_lexer": "ipython3",
   "version": "3.11.1"
  },
  "orig_nbformat": 4
 },
 "nbformat": 4,
 "nbformat_minor": 2
}
