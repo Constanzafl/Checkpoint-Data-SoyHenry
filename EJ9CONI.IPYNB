{
 "cells": [
  {
   "cell_type": "code",
   "execution_count": 1,
   "metadata": {},
   "outputs": [],
   "source": [
    "import pandas as pd"
   ]
  },
  {
   "cell_type": "code",
   "execution_count": null,
   "metadata": {},
   "outputs": [],
   "source": [
    "def Ret_Pregunta09():\n",
    "    '''\n",
    "    Debes utilizar Pandas para ingestar en un objeto Dataframe el contenido del archivo provisto\n",
    "    \"datasets/Tabla1_ejercicio.csv\" y \"datasets/Tabla2_ejercicio.csv\".\n",
    "    Esta función debe informar: score_promedio_femenino y score_promedio_masculino en formato tupla\n",
    "    '''"
   ]
  },
  {
   "cell_type": "code",
   "execution_count": 5,
   "metadata": {},
   "outputs": [
    {
     "data": {
      "text/html": [
       "<div>\n",
       "<style scoped>\n",
       "    .dataframe tbody tr th:only-of-type {\n",
       "        vertical-align: middle;\n",
       "    }\n",
       "\n",
       "    .dataframe tbody tr th {\n",
       "        vertical-align: top;\n",
       "    }\n",
       "\n",
       "    .dataframe thead th {\n",
       "        text-align: right;\n",
       "    }\n",
       "</style>\n",
       "<table border=\"1\" class=\"dataframe\">\n",
       "  <thead>\n",
       "    <tr style=\"text-align: right;\">\n",
       "      <th></th>\n",
       "      <th>pers_id</th>\n",
       "      <th>sexo</th>\n",
       "      <th>edad</th>\n",
       "      <th>ingreso</th>\n",
       "      <th>situacion_lab</th>\n",
       "    </tr>\n",
       "  </thead>\n",
       "  <tbody>\n",
       "    <tr>\n",
       "      <th>0</th>\n",
       "      <td>71906556521</td>\n",
       "      <td>F</td>\n",
       "      <td>47</td>\n",
       "      <td>35926.28125</td>\n",
       "      <td>Sin_situacion_declarada</td>\n",
       "    </tr>\n",
       "    <tr>\n",
       "      <th>1</th>\n",
       "      <td>73861260912</td>\n",
       "      <td>F</td>\n",
       "      <td>41</td>\n",
       "      <td>16231.12207</td>\n",
       "      <td>Sin_situacion_declarada</td>\n",
       "    </tr>\n",
       "    <tr>\n",
       "      <th>2</th>\n",
       "      <td>24939194469</td>\n",
       "      <td>F</td>\n",
       "      <td>40</td>\n",
       "      <td>25068.96484</td>\n",
       "      <td>Relacion_dependencia</td>\n",
       "    </tr>\n",
       "    <tr>\n",
       "      <th>3</th>\n",
       "      <td>21033369421</td>\n",
       "      <td>F</td>\n",
       "      <td>52</td>\n",
       "      <td>30239.54883</td>\n",
       "      <td>Jubilado</td>\n",
       "    </tr>\n",
       "    <tr>\n",
       "      <th>4</th>\n",
       "      <td>45334163605</td>\n",
       "      <td>F</td>\n",
       "      <td>46</td>\n",
       "      <td>12654.58203</td>\n",
       "      <td>Relacion_dependencia</td>\n",
       "    </tr>\n",
       "  </tbody>\n",
       "</table>\n",
       "</div>"
      ],
      "text/plain": [
       "       pers_id sexo  edad      ingreso            situacion_lab\n",
       "0  71906556521    F    47  35926.28125  Sin_situacion_declarada\n",
       "1  73861260912    F    41  16231.12207  Sin_situacion_declarada\n",
       "2  24939194469    F    40  25068.96484     Relacion_dependencia\n",
       "3  21033369421    F    52  30239.54883                 Jubilado\n",
       "4  45334163605    F    46  12654.58203     Relacion_dependencia"
      ]
     },
     "execution_count": 5,
     "metadata": {},
     "output_type": "execute_result"
    }
   ],
   "source": [
    "df1= pd.read_csv('datasets/Tabla1_ejercicio.csv', sep=';')\n",
    "df1.head()"
   ]
  },
  {
   "cell_type": "code",
   "execution_count": 6,
   "metadata": {},
   "outputs": [
    {
     "data": {
      "text/html": [
       "<div>\n",
       "<style scoped>\n",
       "    .dataframe tbody tr th:only-of-type {\n",
       "        vertical-align: middle;\n",
       "    }\n",
       "\n",
       "    .dataframe tbody tr th {\n",
       "        vertical-align: top;\n",
       "    }\n",
       "\n",
       "    .dataframe thead th {\n",
       "        text-align: right;\n",
       "    }\n",
       "</style>\n",
       "<table border=\"1\" class=\"dataframe\">\n",
       "  <thead>\n",
       "    <tr style=\"text-align: right;\">\n",
       "      <th></th>\n",
       "      <th>pers_id</th>\n",
       "      <th>periodo</th>\n",
       "      <th>score</th>\n",
       "    </tr>\n",
       "  </thead>\n",
       "  <tbody>\n",
       "    <tr>\n",
       "      <th>0</th>\n",
       "      <td>27817725</td>\n",
       "      <td>201906</td>\n",
       "      <td>814</td>\n",
       "    </tr>\n",
       "    <tr>\n",
       "      <th>1</th>\n",
       "      <td>37570691</td>\n",
       "      <td>201906</td>\n",
       "      <td>597</td>\n",
       "    </tr>\n",
       "    <tr>\n",
       "      <th>2</th>\n",
       "      <td>40181240</td>\n",
       "      <td>201906</td>\n",
       "      <td>251</td>\n",
       "    </tr>\n",
       "    <tr>\n",
       "      <th>3</th>\n",
       "      <td>52105045</td>\n",
       "      <td>201906</td>\n",
       "      <td>617</td>\n",
       "    </tr>\n",
       "    <tr>\n",
       "      <th>4</th>\n",
       "      <td>63502595</td>\n",
       "      <td>201906</td>\n",
       "      <td>392</td>\n",
       "    </tr>\n",
       "  </tbody>\n",
       "</table>\n",
       "</div>"
      ],
      "text/plain": [
       "    pers_id  periodo  score\n",
       "0  27817725   201906    814\n",
       "1  37570691   201906    597\n",
       "2  40181240   201906    251\n",
       "3  52105045   201906    617\n",
       "4  63502595   201906    392"
      ]
     },
     "execution_count": 6,
     "metadata": {},
     "output_type": "execute_result"
    }
   ],
   "source": [
    "df2= pd.read_csv('datasets/Tabla2_ejercicio.csv', sep=';')\n",
    "df2.head()"
   ]
  },
  {
   "cell_type": "code",
   "execution_count": 15,
   "metadata": {},
   "outputs": [
    {
     "name": "stdout",
     "output_type": "stream",
     "text": [
      "<class 'pandas.core.frame.DataFrame'>\n",
      "RangeIndex: 5000 entries, 0 to 4999\n",
      "Data columns (total 5 columns):\n",
      " #   Column         Non-Null Count  Dtype  \n",
      "---  ------         --------------  -----  \n",
      " 0   pers_id        5000 non-null   int64  \n",
      " 1   sexo           5000 non-null   object \n",
      " 2   edad           5000 non-null   int64  \n",
      " 3   ingreso        5000 non-null   float64\n",
      " 4   situacion_lab  5000 non-null   object \n",
      "dtypes: float64(1), int64(2), object(2)\n",
      "memory usage: 195.4+ KB\n"
     ]
    }
   ],
   "source": [
    "df1.info()"
   ]
  },
  {
   "cell_type": "code",
   "execution_count": 16,
   "metadata": {},
   "outputs": [
    {
     "name": "stdout",
     "output_type": "stream",
     "text": [
      "<class 'pandas.core.frame.DataFrame'>\n",
      "RangeIndex: 14997 entries, 0 to 14996\n",
      "Data columns (total 3 columns):\n",
      " #   Column   Non-Null Count  Dtype\n",
      "---  ------   --------------  -----\n",
      " 0   pers_id  14997 non-null  int64\n",
      " 1   periodo  14997 non-null  int64\n",
      " 2   score    14997 non-null  int64\n",
      "dtypes: int64(3)\n",
      "memory usage: 351.6 KB\n"
     ]
    }
   ],
   "source": [
    "df2.info()"
   ]
  },
  {
   "cell_type": "code",
   "execution_count": 29,
   "metadata": {},
   "outputs": [
    {
     "name": "stdout",
     "output_type": "stream",
     "text": [
      "<class 'pandas.core.frame.DataFrame'>\n",
      "Int64Index: 15876 entries, 0 to 15875\n",
      "Data columns (total 7 columns):\n",
      " #   Column         Non-Null Count  Dtype  \n",
      "---  ------         --------------  -----  \n",
      " 0   pers_id        15876 non-null  int64  \n",
      " 1   sexo           15876 non-null  object \n",
      " 2   edad           15876 non-null  int64  \n",
      " 3   ingreso        15876 non-null  float64\n",
      " 4   situacion_lab  15876 non-null  object \n",
      " 5   periodo        15876 non-null  int64  \n",
      " 6   score          15876 non-null  int64  \n",
      "dtypes: float64(1), int64(4), object(2)\n",
      "memory usage: 992.2+ KB\n"
     ]
    }
   ],
   "source": [
    "dfsumado= pd.merge(df1,df2, on='pers_id').dropna() ## es lo mismo ponerlo que no ponerlo?? al on=pers_id\n",
    "dfsumado.head()\n",
    "dfsumado.info()"
   ]
  },
  {
   "cell_type": "code",
   "execution_count": 46,
   "metadata": {},
   "outputs": [
    {
     "data": {
      "text/plain": [
       "629.32"
      ]
     },
     "execution_count": 46,
     "metadata": {},
     "output_type": "execute_result"
    }
   ],
   "source": [
    "mascF= dfsumado[(dfsumado['sexo'] == 'F')]\n",
    "round(mascF['score'].mean(),2)"
   ]
  },
  {
   "cell_type": "code",
   "execution_count": 47,
   "metadata": {},
   "outputs": [
    {
     "data": {
      "text/plain": [
       "772.28"
      ]
     },
     "execution_count": 47,
     "metadata": {},
     "output_type": "execute_result"
    }
   ],
   "source": [
    "mascM= dfsumado[(dfsumado['sexo'] == 'M')]\n",
    "round(mascM['score'].mean(),2)"
   ]
  },
  {
   "cell_type": "code",
   "execution_count": 52,
   "metadata": {},
   "outputs": [],
   "source": [
    "def Ret_Pregunta09():\n",
    "    df1= pd.read_csv('datasets/Tabla1_ejercicio.csv', sep=';')\n",
    "    df2= pd.read_csv('datasets/Tabla2_ejercicio.csv', sep=';')\n",
    "    dfsumado= pd.merge(df1,df2, on='pers_id').dropna()\n",
    "    mascF= dfsumado[(dfsumado['sexo'] == 'F')]\n",
    "    prom_F= round(mascF['score'].mean(),2)\n",
    "    mascM= dfsumado[(dfsumado['sexo'] == 'M')]\n",
    "    prom_M= round(mascM['score'].mean(),2)\n",
    "    tupla = (prom_F,prom_M)\n",
    "    return tupla"
   ]
  },
  {
   "cell_type": "code",
   "execution_count": 53,
   "metadata": {},
   "outputs": [
    {
     "data": {
      "text/plain": [
       "(629.32, 772.28)"
      ]
     },
     "execution_count": 53,
     "metadata": {},
     "output_type": "execute_result"
    }
   ],
   "source": [
    "Ret_Pregunta09()"
   ]
  }
 ],
 "metadata": {
  "kernelspec": {
   "display_name": "Python 3",
   "language": "python",
   "name": "python3"
  },
  "language_info": {
   "codemirror_mode": {
    "name": "ipython",
    "version": 3
   },
   "file_extension": ".py",
   "mimetype": "text/x-python",
   "name": "python",
   "nbconvert_exporter": "python",
   "pygments_lexer": "ipython3",
   "version": "3.11.1"
  },
  "orig_nbformat": 4
 },
 "nbformat": 4,
 "nbformat_minor": 2
}
