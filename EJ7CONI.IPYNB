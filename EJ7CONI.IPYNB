{
 "cells": [
  {
   "cell_type": "code",
   "execution_count": 27,
   "metadata": {},
   "outputs": [],
   "source": [
    "import pandas as pd"
   ]
  },
  {
   "cell_type": "code",
   "execution_count": 28,
   "metadata": {},
   "outputs": [],
   "source": [
    "def Ret_Pregunta07():\n",
    "    '''\n",
    "    Debes utilizar Pandas para ingestar en un objeto Dataframe el contenido del archivo provisto\n",
    "    \"Fuentes_Consumo_Energia.csv\".\n",
    "    Esta función debe informar cuál de la siguiente lista de países tuvo mayor generacíon de\n",
    "    energía hìdrica (Hydro_Generation_TWh) en el año 2019:\n",
    "        * Argentina\n",
    "        * Brazil\n",
    "        * Chile\n",
    "        * Colombia\n",
    "        * Ecuador\n",
    "        * Mexico\n",
    "        * Peru\n",
    "    Debe retornar el valor en un dato de tipo string.\n",
    "    '''"
   ]
  },
  {
   "cell_type": "code",
   "execution_count": 50,
   "metadata": {},
   "outputs": [
    {
     "data": {
      "text/html": [
       "<div>\n",
       "<style scoped>\n",
       "    .dataframe tbody tr th:only-of-type {\n",
       "        vertical-align: middle;\n",
       "    }\n",
       "\n",
       "    .dataframe tbody tr th {\n",
       "        vertical-align: top;\n",
       "    }\n",
       "\n",
       "    .dataframe thead th {\n",
       "        text-align: right;\n",
       "    }\n",
       "</style>\n",
       "<table border=\"1\" class=\"dataframe\">\n",
       "  <thead>\n",
       "    <tr style=\"text-align: right;\">\n",
       "      <th></th>\n",
       "      <th>Entity</th>\n",
       "      <th>Code</th>\n",
       "      <th>Year</th>\n",
       "      <th>Coal_Consumption_EJ</th>\n",
       "      <th>Gas_Consumption_EJ</th>\n",
       "      <th>Geo_Biomass_Other_TWh</th>\n",
       "      <th>Hydro_Generation_TWh</th>\n",
       "      <th>Nuclear_Generation_TWh</th>\n",
       "      <th>Solar_Generation_TWh</th>\n",
       "      <th>Wind_Generation_TWh</th>\n",
       "      <th>Oil_Consumption_EJ</th>\n",
       "    </tr>\n",
       "  </thead>\n",
       "  <tbody>\n",
       "    <tr>\n",
       "      <th>0</th>\n",
       "      <td>Africa</td>\n",
       "      <td>NaN</td>\n",
       "      <td>1965</td>\n",
       "      <td>1.164586</td>\n",
       "      <td>0.034358</td>\n",
       "      <td>0.0</td>\n",
       "      <td>13.905635</td>\n",
       "      <td>0.0</td>\n",
       "      <td>0.0</td>\n",
       "      <td>0.0</td>\n",
       "      <td>1.173241</td>\n",
       "    </tr>\n",
       "    <tr>\n",
       "      <th>1</th>\n",
       "      <td>Africa</td>\n",
       "      <td>NaN</td>\n",
       "      <td>1966</td>\n",
       "      <td>1.163240</td>\n",
       "      <td>0.038412</td>\n",
       "      <td>0.0</td>\n",
       "      <td>15.510004</td>\n",
       "      <td>0.0</td>\n",
       "      <td>0.0</td>\n",
       "      <td>0.0</td>\n",
       "      <td>1.284154</td>\n",
       "    </tr>\n",
       "    <tr>\n",
       "      <th>2</th>\n",
       "      <td>Africa</td>\n",
       "      <td>NaN</td>\n",
       "      <td>1967</td>\n",
       "      <td>1.189050</td>\n",
       "      <td>0.037964</td>\n",
       "      <td>0.0</td>\n",
       "      <td>16.190636</td>\n",
       "      <td>0.0</td>\n",
       "      <td>0.0</td>\n",
       "      <td>0.0</td>\n",
       "      <td>1.273799</td>\n",
       "    </tr>\n",
       "    <tr>\n",
       "      <th>3</th>\n",
       "      <td>Africa</td>\n",
       "      <td>NaN</td>\n",
       "      <td>1968</td>\n",
       "      <td>1.236646</td>\n",
       "      <td>0.038480</td>\n",
       "      <td>0.0</td>\n",
       "      <td>18.938341</td>\n",
       "      <td>0.0</td>\n",
       "      <td>0.0</td>\n",
       "      <td>0.0</td>\n",
       "      <td>1.344219</td>\n",
       "    </tr>\n",
       "    <tr>\n",
       "      <th>4</th>\n",
       "      <td>Africa</td>\n",
       "      <td>NaN</td>\n",
       "      <td>1969</td>\n",
       "      <td>1.247915</td>\n",
       "      <td>0.044971</td>\n",
       "      <td>0.0</td>\n",
       "      <td>22.100890</td>\n",
       "      <td>0.0</td>\n",
       "      <td>0.0</td>\n",
       "      <td>0.0</td>\n",
       "      <td>1.362729</td>\n",
       "    </tr>\n",
       "  </tbody>\n",
       "</table>\n",
       "</div>"
      ],
      "text/plain": [
       "   Entity Code  Year  Coal_Consumption_EJ  Gas_Consumption_EJ  \\\n",
       "0  Africa  NaN  1965             1.164586            0.034358   \n",
       "1  Africa  NaN  1966             1.163240            0.038412   \n",
       "2  Africa  NaN  1967             1.189050            0.037964   \n",
       "3  Africa  NaN  1968             1.236646            0.038480   \n",
       "4  Africa  NaN  1969             1.247915            0.044971   \n",
       "\n",
       "   Geo_Biomass_Other_TWh  Hydro_Generation_TWh  Nuclear_Generation_TWh  \\\n",
       "0                    0.0             13.905635                     0.0   \n",
       "1                    0.0             15.510004                     0.0   \n",
       "2                    0.0             16.190636                     0.0   \n",
       "3                    0.0             18.938341                     0.0   \n",
       "4                    0.0             22.100890                     0.0   \n",
       "\n",
       "   Solar_Generation_TWh  Wind_Generation_TWh  Oil_Consumption_EJ  \n",
       "0                   0.0                  0.0            1.173241  \n",
       "1                   0.0                  0.0            1.284154  \n",
       "2                   0.0                  0.0            1.273799  \n",
       "3                   0.0                  0.0            1.344219  \n",
       "4                   0.0                  0.0            1.362729  "
      ]
     },
     "execution_count": 50,
     "metadata": {},
     "output_type": "execute_result"
    }
   ],
   "source": [
    "df7 = pd.read_csv('datasets\\Fuentes_Consumo_Energia.csv')\n",
    "df7.head()\n"
   ]
  },
  {
   "cell_type": "code",
   "execution_count": 51,
   "metadata": {},
   "outputs": [
    {
     "data": {
      "text/html": [
       "<div>\n",
       "<style scoped>\n",
       "    .dataframe tbody tr th:only-of-type {\n",
       "        vertical-align: middle;\n",
       "    }\n",
       "\n",
       "    .dataframe tbody tr th {\n",
       "        vertical-align: top;\n",
       "    }\n",
       "\n",
       "    .dataframe thead th {\n",
       "        text-align: right;\n",
       "    }\n",
       "</style>\n",
       "<table border=\"1\" class=\"dataframe\">\n",
       "  <thead>\n",
       "    <tr style=\"text-align: right;\">\n",
       "      <th></th>\n",
       "      <th>Entity</th>\n",
       "      <th>Code</th>\n",
       "      <th>Year</th>\n",
       "      <th>Coal_Consumption_EJ</th>\n",
       "      <th>Gas_Consumption_EJ</th>\n",
       "      <th>Geo_Biomass_Other_TWh</th>\n",
       "      <th>Hydro_Generation_TWh</th>\n",
       "      <th>Nuclear_Generation_TWh</th>\n",
       "      <th>Solar_Generation_TWh</th>\n",
       "      <th>Wind_Generation_TWh</th>\n",
       "      <th>Oil_Consumption_EJ</th>\n",
       "    </tr>\n",
       "  </thead>\n",
       "  <tbody>\n",
       "    <tr>\n",
       "      <th>164</th>\n",
       "      <td>Argentina</td>\n",
       "      <td>ARG</td>\n",
       "      <td>2019</td>\n",
       "      <td>0.022852</td>\n",
       "      <td>1.709661</td>\n",
       "      <td>2.397314</td>\n",
       "      <td>37.066787</td>\n",
       "      <td>8.441898</td>\n",
       "      <td>0.799698</td>\n",
       "      <td>4.995966</td>\n",
       "      <td>1.18558</td>\n",
       "    </tr>\n",
       "  </tbody>\n",
       "</table>\n",
       "</div>"
      ],
      "text/plain": [
       "        Entity Code  Year  Coal_Consumption_EJ  Gas_Consumption_EJ  \\\n",
       "164  Argentina  ARG  2019             0.022852            1.709661   \n",
       "\n",
       "     Geo_Biomass_Other_TWh  Hydro_Generation_TWh  Nuclear_Generation_TWh  \\\n",
       "164               2.397314             37.066787                8.441898   \n",
       "\n",
       "     Solar_Generation_TWh  Wind_Generation_TWh  Oil_Consumption_EJ  \n",
       "164              0.799698             4.995966             1.18558  "
      ]
     },
     "execution_count": 51,
     "metadata": {},
     "output_type": "execute_result"
    }
   ],
   "source": [
    "arg = df7 [(df7['Entity'] == 'Argentina') & (df7['Year'] == 2019)]\n",
    "arg"
   ]
  },
  {
   "cell_type": "code",
   "execution_count": 79,
   "metadata": {},
   "outputs": [
    {
     "data": {
      "text/plain": [
       "pandas.core.series.Series"
      ]
     },
     "execution_count": 79,
     "metadata": {},
     "output_type": "execute_result"
    }
   ],
   "source": [
    "numA= arg['Hydro_Generation_TWh']\n",
    "type(numA)"
   ]
  },
  {
   "cell_type": "code",
   "execution_count": 81,
   "metadata": {},
   "outputs": [
    {
     "data": {
      "text/plain": [
       "float"
      ]
     },
     "execution_count": 81,
     "metadata": {},
     "output_type": "execute_result"
    }
   ],
   "source": [
    "numA= float (arg['Hydro_Generation_TWh'])\n",
    "numA"
   ]
  },
  {
   "cell_type": "code",
   "execution_count": 63,
   "metadata": {},
   "outputs": [
    {
     "data": {
      "text/html": [
       "<div>\n",
       "<style scoped>\n",
       "    .dataframe tbody tr th:only-of-type {\n",
       "        vertical-align: middle;\n",
       "    }\n",
       "\n",
       "    .dataframe tbody tr th {\n",
       "        vertical-align: top;\n",
       "    }\n",
       "\n",
       "    .dataframe thead th {\n",
       "        text-align: right;\n",
       "    }\n",
       "</style>\n",
       "<table border=\"1\" class=\"dataframe\">\n",
       "  <thead>\n",
       "    <tr style=\"text-align: right;\">\n",
       "      <th></th>\n",
       "      <th>Entity</th>\n",
       "      <th>Code</th>\n",
       "      <th>Year</th>\n",
       "      <th>Coal_Consumption_EJ</th>\n",
       "      <th>Gas_Consumption_EJ</th>\n",
       "      <th>Geo_Biomass_Other_TWh</th>\n",
       "      <th>Hydro_Generation_TWh</th>\n",
       "      <th>Nuclear_Generation_TWh</th>\n",
       "      <th>Solar_Generation_TWh</th>\n",
       "      <th>Wind_Generation_TWh</th>\n",
       "      <th>Oil_Consumption_EJ</th>\n",
       "    </tr>\n",
       "  </thead>\n",
       "  <tbody>\n",
       "    <tr>\n",
       "      <th>564</th>\n",
       "      <td>Brazil</td>\n",
       "      <td>BRA</td>\n",
       "      <td>2019</td>\n",
       "      <td>0.656077</td>\n",
       "      <td>1.289142</td>\n",
       "      <td>56.254366</td>\n",
       "      <td>399.297116</td>\n",
       "      <td>16.164832</td>\n",
       "      <td>5.562711</td>\n",
       "      <td>55.8332</td>\n",
       "      <td>4.730524</td>\n",
       "    </tr>\n",
       "  </tbody>\n",
       "</table>\n",
       "</div>"
      ],
      "text/plain": [
       "     Entity Code  Year  Coal_Consumption_EJ  Gas_Consumption_EJ  \\\n",
       "564  Brazil  BRA  2019             0.656077            1.289142   \n",
       "\n",
       "     Geo_Biomass_Other_TWh  Hydro_Generation_TWh  Nuclear_Generation_TWh  \\\n",
       "564              56.254366            399.297116               16.164832   \n",
       "\n",
       "     Solar_Generation_TWh  Wind_Generation_TWh  Oil_Consumption_EJ  \n",
       "564              5.562711              55.8332            4.730524  "
      ]
     },
     "execution_count": 63,
     "metadata": {},
     "output_type": "execute_result"
    }
   ],
   "source": [
    "brz = df7 [(df7['Entity'] == 'Brazil') & (df7['Year'] == 2019)]\n",
    "brz"
   ]
  },
  {
   "cell_type": "code",
   "execution_count": 82,
   "metadata": {},
   "outputs": [
    {
     "data": {
      "text/plain": [
       "399.2971157"
      ]
     },
     "execution_count": 82,
     "metadata": {},
     "output_type": "execute_result"
    }
   ],
   "source": [
    "numB= float (brz['Hydro_Generation_TWh'])\n",
    "numB"
   ]
  },
  {
   "cell_type": "code",
   "execution_count": 65,
   "metadata": {},
   "outputs": [
    {
     "data": {
      "text/html": [
       "<div>\n",
       "<style scoped>\n",
       "    .dataframe tbody tr th:only-of-type {\n",
       "        vertical-align: middle;\n",
       "    }\n",
       "\n",
       "    .dataframe tbody tr th {\n",
       "        vertical-align: top;\n",
       "    }\n",
       "\n",
       "    .dataframe thead th {\n",
       "        text-align: right;\n",
       "    }\n",
       "</style>\n",
       "<table border=\"1\" class=\"dataframe\">\n",
       "  <thead>\n",
       "    <tr style=\"text-align: right;\">\n",
       "      <th></th>\n",
       "      <th>Entity</th>\n",
       "      <th>Code</th>\n",
       "      <th>Year</th>\n",
       "      <th>Coal_Consumption_EJ</th>\n",
       "      <th>Gas_Consumption_EJ</th>\n",
       "      <th>Geo_Biomass_Other_TWh</th>\n",
       "      <th>Hydro_Generation_TWh</th>\n",
       "      <th>Nuclear_Generation_TWh</th>\n",
       "      <th>Solar_Generation_TWh</th>\n",
       "      <th>Wind_Generation_TWh</th>\n",
       "      <th>Oil_Consumption_EJ</th>\n",
       "    </tr>\n",
       "  </thead>\n",
       "  <tbody>\n",
       "    <tr>\n",
       "      <th>839</th>\n",
       "      <td>Chile</td>\n",
       "      <td>CHL</td>\n",
       "      <td>2019</td>\n",
       "      <td>0.284529</td>\n",
       "      <td>0.233328</td>\n",
       "      <td>9.992204</td>\n",
       "      <td>20.852753</td>\n",
       "      <td>0.0</td>\n",
       "      <td>6.300226</td>\n",
       "      <td>5.300193</td>\n",
       "      <td>0.759592</td>\n",
       "    </tr>\n",
       "  </tbody>\n",
       "</table>\n",
       "</div>"
      ],
      "text/plain": [
       "    Entity Code  Year  Coal_Consumption_EJ  Gas_Consumption_EJ  \\\n",
       "839  Chile  CHL  2019             0.284529            0.233328   \n",
       "\n",
       "     Geo_Biomass_Other_TWh  Hydro_Generation_TWh  Nuclear_Generation_TWh  \\\n",
       "839               9.992204             20.852753                     0.0   \n",
       "\n",
       "     Solar_Generation_TWh  Wind_Generation_TWh  Oil_Consumption_EJ  \n",
       "839              6.300226             5.300193            0.759592  "
      ]
     },
     "execution_count": 65,
     "metadata": {},
     "output_type": "execute_result"
    }
   ],
   "source": [
    "chile = df7 [(df7['Entity'] == 'Chile') & (df7['Year'] == 2019)]\n",
    "chile"
   ]
  },
  {
   "cell_type": "code",
   "execution_count": 66,
   "metadata": {},
   "outputs": [
    {
     "data": {
      "text/plain": [
       "20.85275304"
      ]
     },
     "execution_count": 66,
     "metadata": {},
     "output_type": "execute_result"
    }
   ],
   "source": [
    "numCH= float (chile['Hydro_Generation_TWh'])\n",
    "numCH"
   ]
  },
  {
   "cell_type": "code",
   "execution_count": 67,
   "metadata": {},
   "outputs": [
    {
     "data": {
      "text/html": [
       "<div>\n",
       "<style scoped>\n",
       "    .dataframe tbody tr th:only-of-type {\n",
       "        vertical-align: middle;\n",
       "    }\n",
       "\n",
       "    .dataframe tbody tr th {\n",
       "        vertical-align: top;\n",
       "    }\n",
       "\n",
       "    .dataframe thead th {\n",
       "        text-align: right;\n",
       "    }\n",
       "</style>\n",
       "<table border=\"1\" class=\"dataframe\">\n",
       "  <thead>\n",
       "    <tr style=\"text-align: right;\">\n",
       "      <th></th>\n",
       "      <th>Entity</th>\n",
       "      <th>Code</th>\n",
       "      <th>Year</th>\n",
       "      <th>Coal_Consumption_EJ</th>\n",
       "      <th>Gas_Consumption_EJ</th>\n",
       "      <th>Geo_Biomass_Other_TWh</th>\n",
       "      <th>Hydro_Generation_TWh</th>\n",
       "      <th>Nuclear_Generation_TWh</th>\n",
       "      <th>Solar_Generation_TWh</th>\n",
       "      <th>Wind_Generation_TWh</th>\n",
       "      <th>Oil_Consumption_EJ</th>\n",
       "    </tr>\n",
       "  </thead>\n",
       "  <tbody>\n",
       "    <tr>\n",
       "      <th>949</th>\n",
       "      <td>Colombia</td>\n",
       "      <td>COL</td>\n",
       "      <td>2019</td>\n",
       "      <td>0.257706</td>\n",
       "      <td>0.484072</td>\n",
       "      <td>2.047531</td>\n",
       "      <td>51.542435</td>\n",
       "      <td>0.0</td>\n",
       "      <td>0.123067</td>\n",
       "      <td>0.059537</td>\n",
       "      <td>0.701667</td>\n",
       "    </tr>\n",
       "  </tbody>\n",
       "</table>\n",
       "</div>"
      ],
      "text/plain": [
       "       Entity Code  Year  Coal_Consumption_EJ  Gas_Consumption_EJ  \\\n",
       "949  Colombia  COL  2019             0.257706            0.484072   \n",
       "\n",
       "     Geo_Biomass_Other_TWh  Hydro_Generation_TWh  Nuclear_Generation_TWh  \\\n",
       "949               2.047531             51.542435                     0.0   \n",
       "\n",
       "     Solar_Generation_TWh  Wind_Generation_TWh  Oil_Consumption_EJ  \n",
       "949              0.123067             0.059537            0.701667  "
      ]
     },
     "execution_count": 67,
     "metadata": {},
     "output_type": "execute_result"
    }
   ],
   "source": [
    "col = df7 [(df7['Entity'] == 'Colombia') & (df7['Year'] == 2019)]\n",
    "col\n"
   ]
  },
  {
   "cell_type": "code",
   "execution_count": 68,
   "metadata": {},
   "outputs": [
    {
     "data": {
      "text/plain": [
       "51.54243493"
      ]
     },
     "execution_count": 68,
     "metadata": {},
     "output_type": "execute_result"
    }
   ],
   "source": [
    "numC= float (col['Hydro_Generation_TWh'])\n",
    "numC"
   ]
  },
  {
   "cell_type": "code",
   "execution_count": 69,
   "metadata": {},
   "outputs": [
    {
     "data": {
      "text/html": [
       "<div>\n",
       "<style scoped>\n",
       "    .dataframe tbody tr th:only-of-type {\n",
       "        vertical-align: middle;\n",
       "    }\n",
       "\n",
       "    .dataframe tbody tr th {\n",
       "        vertical-align: top;\n",
       "    }\n",
       "\n",
       "    .dataframe thead th {\n",
       "        text-align: right;\n",
       "    }\n",
       "</style>\n",
       "<table border=\"1\" class=\"dataframe\">\n",
       "  <thead>\n",
       "    <tr style=\"text-align: right;\">\n",
       "      <th></th>\n",
       "      <th>Entity</th>\n",
       "      <th>Code</th>\n",
       "      <th>Year</th>\n",
       "      <th>Coal_Consumption_EJ</th>\n",
       "      <th>Gas_Consumption_EJ</th>\n",
       "      <th>Geo_Biomass_Other_TWh</th>\n",
       "      <th>Hydro_Generation_TWh</th>\n",
       "      <th>Nuclear_Generation_TWh</th>\n",
       "      <th>Solar_Generation_TWh</th>\n",
       "      <th>Wind_Generation_TWh</th>\n",
       "      <th>Oil_Consumption_EJ</th>\n",
       "    </tr>\n",
       "  </thead>\n",
       "  <tbody>\n",
       "    <tr>\n",
       "      <th>1254</th>\n",
       "      <td>Ecuador</td>\n",
       "      <td>ECU</td>\n",
       "      <td>2019</td>\n",
       "      <td>0.0</td>\n",
       "      <td>0.022754</td>\n",
       "      <td>0.454723</td>\n",
       "      <td>24.664264</td>\n",
       "      <td>0.0</td>\n",
       "      <td>0.166452</td>\n",
       "      <td>0.085527</td>\n",
       "      <td>0.494373</td>\n",
       "    </tr>\n",
       "  </tbody>\n",
       "</table>\n",
       "</div>"
      ],
      "text/plain": [
       "       Entity Code  Year  Coal_Consumption_EJ  Gas_Consumption_EJ  \\\n",
       "1254  Ecuador  ECU  2019                  0.0            0.022754   \n",
       "\n",
       "      Geo_Biomass_Other_TWh  Hydro_Generation_TWh  Nuclear_Generation_TWh  \\\n",
       "1254               0.454723             24.664264                     0.0   \n",
       "\n",
       "      Solar_Generation_TWh  Wind_Generation_TWh  Oil_Consumption_EJ  \n",
       "1254              0.166452             0.085527            0.494373  "
      ]
     },
     "execution_count": 69,
     "metadata": {},
     "output_type": "execute_result"
    }
   ],
   "source": [
    "ecua = df7 [(df7['Entity'] == 'Ecuador') & (df7['Year'] == 2019)]\n",
    "ecua\n",
    "\n"
   ]
  },
  {
   "cell_type": "code",
   "execution_count": 70,
   "metadata": {},
   "outputs": [
    {
     "data": {
      "text/plain": [
       "24.66426354"
      ]
     },
     "execution_count": 70,
     "metadata": {},
     "output_type": "execute_result"
    }
   ],
   "source": [
    "numE= float (ecua['Hydro_Generation_TWh'])\n",
    "numE"
   ]
  },
  {
   "cell_type": "code",
   "execution_count": 71,
   "metadata": {},
   "outputs": [
    {
     "data": {
      "text/plain": [
       "23.79043502"
      ]
     },
     "execution_count": 71,
     "metadata": {},
     "output_type": "execute_result"
    }
   ],
   "source": [
    "mex = df7 [(df7['Entity'] == 'Mexico') & (df7['Year'] == 2019)]\n",
    "mex \n",
    "numM= float (mex['Hydro_Generation_TWh'])\n",
    "numM\n"
   ]
  },
  {
   "cell_type": "code",
   "execution_count": 72,
   "metadata": {},
   "outputs": [
    {
     "data": {
      "text/plain": [
       "31.58605922"
      ]
     },
     "execution_count": 72,
     "metadata": {},
     "output_type": "execute_result"
    }
   ],
   "source": [
    "peru = df7 [(df7['Entity'] == 'Peru') & (df7['Year'] == 2019)]\n",
    "peru\n",
    "numP= float (peru['Hydro_Generation_TWh'])\n",
    "numP\n",
    "\n",
    "\n"
   ]
  },
  {
   "cell_type": "code",
   "execution_count": 73,
   "metadata": {},
   "outputs": [],
   "source": [
    "list1= [numP,numM,numA,numB,numC,numCH,numE]\n",
    "#list1.sort()\n",
    "#print(str(list1[-1]))"
   ]
  },
  {
   "cell_type": "code",
   "execution_count": 74,
   "metadata": {},
   "outputs": [
    {
     "name": "stdout",
     "output_type": "stream",
     "text": [
      "Brasil\n"
     ]
    }
   ],
   "source": [
    "list2= ['Peru','Mexico','Argentina','Brasil','Colombia','Chile','Ecuador']\n",
    "c= zip(list1,list2)\n",
    "final= list(c)\n",
    "final.sort()\n",
    "print(str(final[-1][1]))"
   ]
  },
  {
   "cell_type": "code",
   "execution_count": 86,
   "metadata": {},
   "outputs": [],
   "source": [
    "def Ret_Pregunta07():\n",
    "    df7 = pd.read_csv('datasets\\Fuentes_Consumo_Energia.csv')\n",
    "    arg = df7 [(df7['Entity'] == 'Argentina') & (df7['Year'] == 2019)]\n",
    "    brz = df7 [(df7['Entity'] == 'Brasil') & (df7['Year'] == 2019)]\n",
    "    col = df7 [(df7['Entity'] == 'Colombia') & (df7['Year'] == 2019)]\n",
    "    chile = df7 [(df7['Entity'] == 'Chile') & (df7['Year'] == 2019)]\n",
    "    peru = df7 [(df7['Entity'] == 'Peru') & (df7['Year'] == 2019)]\n",
    "    ecua = df7 [(df7['Entity'] == 'Ecuador') & (df7['Year'] == 2019)]\n",
    "    mex = df7 [(df7['Entity'] == 'Mexico') & (df7['Year'] == 2019)]\n",
    "    numA= float (arg['Hydro_Generation_TWh'])\n",
    "    numB= float (brz['Hydro_Generation_TWh'])\n",
    "    numC= float (col['Hydro_Generation_TWh'])\n",
    "    numCH= float (chile['Hydro_Generation_TWh'])\n",
    "    numP= float (peru['Hydro_Generation_TWh'])\n",
    "    numM= float (mex['Hydro_Generation_TWh'])\n",
    "    numE= float (ecua['Hydro_Generation_TWh'])\n",
    "    list1= [numP,numM,numA,numB,numC,numCH,numE]\n",
    "    list2= ['Peru','Mexico','Argentina','Brasil','Colombia','Chile','Ecuador']\n",
    "    c= zip(list1,list2)\n",
    "    final= list(c)\n",
    "    final.sort()\n",
    "    print(str(final[-1][1]))\n"
   ]
  },
  {
   "cell_type": "code",
   "execution_count": 87,
   "metadata": {},
   "outputs": [
    {
     "ename": "TypeError",
     "evalue": "cannot convert the series to <class 'float'>",
     "output_type": "error",
     "traceback": [
      "\u001b[1;31m---------------------------------------------------------------------------\u001b[0m",
      "\u001b[1;31mTypeError\u001b[0m                                 Traceback (most recent call last)",
      "Cell \u001b[1;32mIn[87], line 1\u001b[0m\n\u001b[1;32m----> 1\u001b[0m Ret_Pregunta07()\n",
      "Cell \u001b[1;32mIn[86], line 11\u001b[0m, in \u001b[0;36mRet_Pregunta07\u001b[1;34m()\u001b[0m\n\u001b[0;32m      9\u001b[0m mex \u001b[39m=\u001b[39m df7 [(df7[\u001b[39m'\u001b[39m\u001b[39mEntity\u001b[39m\u001b[39m'\u001b[39m] \u001b[39m==\u001b[39m \u001b[39m'\u001b[39m\u001b[39mMexico\u001b[39m\u001b[39m'\u001b[39m) \u001b[39m&\u001b[39m (df7[\u001b[39m'\u001b[39m\u001b[39mYear\u001b[39m\u001b[39m'\u001b[39m] \u001b[39m==\u001b[39m \u001b[39m2019\u001b[39m)]\n\u001b[0;32m     10\u001b[0m numA\u001b[39m=\u001b[39m \u001b[39mfloat\u001b[39m (arg[\u001b[39m'\u001b[39m\u001b[39mHydro_Generation_TWh\u001b[39m\u001b[39m'\u001b[39m])\n\u001b[1;32m---> 11\u001b[0m numB\u001b[39m=\u001b[39m \u001b[39mfloat\u001b[39;49m (brz[\u001b[39m'\u001b[39;49m\u001b[39mHydro_Generation_TWh\u001b[39;49m\u001b[39m'\u001b[39;49m])\n\u001b[0;32m     12\u001b[0m numC\u001b[39m=\u001b[39m \u001b[39mfloat\u001b[39m (col[\u001b[39m'\u001b[39m\u001b[39mHydro_Generation_TWh\u001b[39m\u001b[39m'\u001b[39m])\n\u001b[0;32m     13\u001b[0m numCH\u001b[39m=\u001b[39m \u001b[39mfloat\u001b[39m (chile[\u001b[39m'\u001b[39m\u001b[39mHydro_Generation_TWh\u001b[39m\u001b[39m'\u001b[39m])\n",
      "File \u001b[1;32m~\\AppData\\Roaming\\Python\\Python311\\site-packages\\pandas\\core\\series.py:206\u001b[0m, in \u001b[0;36m_coerce_method.<locals>.wrapper\u001b[1;34m(self)\u001b[0m\n\u001b[0;32m    204\u001b[0m \u001b[39mif\u001b[39;00m \u001b[39mlen\u001b[39m(\u001b[39mself\u001b[39m) \u001b[39m==\u001b[39m \u001b[39m1\u001b[39m:\n\u001b[0;32m    205\u001b[0m     \u001b[39mreturn\u001b[39;00m converter(\u001b[39mself\u001b[39m\u001b[39m.\u001b[39miloc[\u001b[39m0\u001b[39m])\n\u001b[1;32m--> 206\u001b[0m \u001b[39mraise\u001b[39;00m \u001b[39mTypeError\u001b[39;00m(\u001b[39mf\u001b[39m\u001b[39m\"\u001b[39m\u001b[39mcannot convert the series to \u001b[39m\u001b[39m{\u001b[39;00mconverter\u001b[39m}\u001b[39;00m\u001b[39m\"\u001b[39m)\n",
      "\u001b[1;31mTypeError\u001b[0m: cannot convert the series to <class 'float'>"
     ]
    }
   ],
   "source": [
    "Ret_Pregunta07()"
   ]
  }
 ],
 "metadata": {
  "kernelspec": {
   "display_name": "Python 3",
   "language": "python",
   "name": "python3"
  },
  "language_info": {
   "codemirror_mode": {
    "name": "ipython",
    "version": 3
   },
   "file_extension": ".py",
   "mimetype": "text/x-python",
   "name": "python",
   "nbconvert_exporter": "python",
   "pygments_lexer": "ipython3",
   "version": "3.11.1"
  },
  "orig_nbformat": 4
 },
 "nbformat": 4,
 "nbformat_minor": 2
}
